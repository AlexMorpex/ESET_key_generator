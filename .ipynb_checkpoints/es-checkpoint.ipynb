{
 "cells": [
  {
   "cell_type": "code",
   "execution_count": 1,
   "id": "860330f0-e25d-439e-8b4c-2e28fda22486",
   "metadata": {},
   "outputs": [],
   "source": [
    "from selenium import webdriver\n",
    "from selenium.webdriver.common.by import By\n",
    "from selenium.webdriver.chrome.service import Service\n",
    "from selenium.webdriver.common.keys import Keys\n",
    "from selenium.webdriver.support.ui import WebDriverWait as wait\n",
    "from selenium.webdriver.support import expected_conditions as EC\n",
    "from selenium.common.exceptions import NoSuchElementException\n",
    "from bs4 import BeautifulSoup\n",
    "from time import sleep\n",
    "from tqdm import tqdm\n",
    "from hashlib import sha256\n",
    "from random import choice\n",
    "import requests\n",
    "import time\n",
    "import re"
   ]
  },
  {
   "cell_type": "code",
   "execution_count": 2,
   "id": "3682c008-ec95-43ee-9a3a-b3ff0aea9938",
   "metadata": {},
   "outputs": [],
   "source": [
    "service = Service('chromedriver.exe')\n",
    "eset_registration = 'https://login.eset.com/Register'\n",
    "\n",
    "browser_eset = webdriver.Chrome(service=service)\n",
    "browser_eset.get(eset_registration)\n",
    "\n",
    "wait(browser_eset, 10).until(EC.visibility_of_element_located((By.XPATH, '//*[@id=\"cookiebar\"]/div[1]')))\n",
    "button_eset_cockies = browser_eset.find_element(By.XPATH, '/html/body/div[2]/div[1]/div/div[2]/div[2]/button')\n",
    "button_eset_cockies.click()\n"
   ]
  },
  {
   "cell_type": "code",
   "execution_count": 3,
   "id": "2d64df77-c097-4690-b019-39f173c50c61",
   "metadata": {},
   "outputs": [],
   "source": [
    "\n",
    "def get_domains():\n",
    "    response = requests.get(\"https://api.mail.tm/domains\")\n",
    "    return response.json()[\"hydra:member\"][0][\"domain\"]\n",
    "\n",
    "def create_account(email, password):\n",
    "    response = requests.post(\"https://api.mail.tm/accounts\", json={\"address\": email, \"password\": password})\n",
    "    return response.json()\n",
    "\n",
    "def get_token(email, password):\n",
    "    response = requests.post(\"https://api.mail.tm/token\", json={\"address\": email, \"password\": password})\n",
    "    return response.json().get(\"token\")\n",
    "\n",
    "def get_messages(token):\n",
    "    headers = {\"Authorization\": f\"Bearer {token}\"}\n",
    "    response = requests.get(\"https://api.mail.tm/messages\", headers=headers)\n",
    "    return response.json()[\"hydra:member\"]\n",
    "\n",
    "def get_message_content(token, message_id):\n",
    "    headers = {\"Authorization\": f\"Bearer {token}\"}\n",
    "    response = requests.get(f\"https://api.mail.tm/messages/{message_id}\", headers=headers)\n",
    "    return response.json().get(\"text\", \"\")\n",
    "\n",
    "def extract_confirmation_link(text):\n",
    "    match = re.search(r'https?://\\S+', text)\n",
    "    return match.group(0) if match else \"Ссылка не найдена\""
   ]
  },
  {
   "cell_type": "code",
   "execution_count": 4,
   "id": "eb953137-5f33-4d45-90f4-19a7b94a1e2d",
   "metadata": {},
   "outputs": [
    {
     "name": "stdout",
     "output_type": "stream",
     "text": [
      "Создание временной почты: test_1742568630@indigobook.com\n",
      "Успешно получили токен аутентификации!\n",
      "Ожидание писем...\n",
      "Полученные сообщения:\n",
      "От: info@product.eset.com, Тема: Подтверждение учетной записи\n",
      "Ссылка для подтверждения: https://login.eset.com/link/confirmregistration?token=7d601a9c-03da-484b-b262-b82efa312db6]\n"
     ]
    }
   ],
   "source": [
    "chars = 'abcdefghijklmnopqrstuvwxyzABCDEFGHIJKLMNOPQRSTUVWXYZ1234567890!@#$%^&*()'\n",
    "before = ''.join(choice(chars) for _ in range(100))\n",
    "\n",
    "domain = get_domains()\n",
    "email = f\"test_{int(time.time())}@{domain}\"\n",
    "password = sha256(before.encode()).hexdigest()+'A'\n",
    "\n",
    "\n",
    "print(f\"Создание временной почты: {email}\")\n",
    "create_account(email, password)\n",
    "token = get_token(email, password)\n",
    "\n",
    "if token:\n",
    "    print(\"Успешно получили токен аутентификации!\")\n",
    "    print(\"Ожидание писем...\")\n",
    "\n",
    "\n",
    "    email_input = browser_eset.find_element(By.XPATH, '//*[@id=\"email\"]')\n",
    "    email_input.send_keys(email)\n",
    "    email_input.send_keys(Keys.ENTER)\n",
    "    \n",
    "    wait(browser_eset, 10).until(EC.visibility_of_element_located((By.XPATH, '//*[@id=\"password\"]')))\n",
    "    password_input = browser_eset.find_element(By.XPATH, '//*[@id=\"password\"]')\n",
    "    password_input.send_keys(password)\n",
    "    password_input.send_keys(Keys.ENTER)\n",
    "    \n",
    "    time.sleep(10)  # Подождем немного, чтобы появилось письмо\n",
    "    \n",
    "    messages = get_messages(token)\n",
    "    \n",
    "    if messages:\n",
    "        print(\"Полученные сообщения:\")\n",
    "        for msg in messages:\n",
    "            for msg in messages:\n",
    "                print(f\"От: {msg['from']['address']}, Тема: {msg['subject']}\")\n",
    "                message_text = get_message_content(token, msg['id'])\n",
    "                confirmation_link = extract_confirmation_link(message_text).replace(']','')\n",
    "                print(f\"Ссылка для подтверждения: {confirmation_link}\")\n",
    "                browser_eset.get(confirmation_link)\n",
    "    else:\n",
    "        print(\"Сообщений пока нет.\")\n",
    "else:\n",
    "    print(\"Ошибка получения токена.\")\n"
   ]
  },
  {
   "cell_type": "code",
   "execution_count": null,
   "id": "c3cbe136-719a-4798-a43b-9aef9f52bd8f",
   "metadata": {},
   "outputs": [],
   "source": [
    "wait(browser_eset, 10).until(EC.visibility_of_element_located((By.XPATH, '//*[@id=\"main-content\"]/div/div[1]/div/main/div/div/div[2]/div/div/div/div/div[2]/div/div/div/button')))\n",
    "browser_eset.find_element(By.XPATH, '//*[@id=\"main-content\"]/div/div[1]/div/main/div/div/div[2]/div/div/div/div/div[2]/div/div/div/button').click()\n",
    "\n",
    "wait(browser_eset, 10).until(EC.visibility_of_element_located((By.XPATH, '//*[@id=\"license-add-new-slides\"]/div/ion-slide[1]/div/div/div[3]/div/button')))\n",
    "browser_eset.find_element(By.XPATH, '//*[@id=\"license-add-new-slides\"]/div/ion-slide[1]/div/div/div[3]/div/button').click()\n",
    "\n"
   ]
  }
 ],
 "metadata": {
  "kernelspec": {
   "display_name": "Python (myenv)",
   "language": "python",
   "name": "myenv"
  },
  "language_info": {
   "codemirror_mode": {
    "name": "ipython",
    "version": 3
   },
   "file_extension": ".py",
   "mimetype": "text/x-python",
   "name": "python",
   "nbconvert_exporter": "python",
   "pygments_lexer": "ipython3",
   "version": "3.12.9"
  }
 },
 "nbformat": 4,
 "nbformat_minor": 5
}
