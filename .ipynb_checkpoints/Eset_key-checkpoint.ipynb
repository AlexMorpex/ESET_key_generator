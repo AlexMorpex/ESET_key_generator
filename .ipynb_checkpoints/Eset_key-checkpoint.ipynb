{
 "cells": [
  {
   "cell_type": "code",
   "execution_count": 1,
   "id": "cb03ea06-80a1-458f-9f2f-65ca682a6132",
   "metadata": {},
   "outputs": [],
   "source": [
    "from selenium import webdriver\n",
    "from selenium.webdriver.common.by import By\n",
    "from selenium.webdriver.chrome.service import Service\n",
    "from selenium.webdriver.common.keys import Keys\n",
    "from selenium.webdriver.support.ui import WebDriverWait as wait\n",
    "from selenium.webdriver.support import expected_conditions as EC\n",
    "from selenium.common.exceptions import NoSuchElementException\n",
    "from bs4 import BeautifulSoup\n",
    "from time import sleep\n",
    "from tqdm import tqdm\n",
    "from hashlib import sha256\n",
    "from random import choice"
   ]
  },
  {
   "cell_type": "code",
   "execution_count": 2,
   "id": "c288efcc-d00e-43de-8948-d7ab62e7585c",
   "metadata": {},
   "outputs": [],
   "source": [
    "service = Service('chromedriver.exe')\n",
    "browser_eset = webdriver.Chrome(service=service)\n",
    "browser_email = webdriver.Chrome(service=service)"
   ]
  },
  {
   "cell_type": "code",
   "execution_count": 3,
   "id": "6777f64a-459a-471d-b37f-9e4cba1b92c7",
   "metadata": {},
   "outputs": [
    {
     "name": "stdout",
     "output_type": "stream",
     "text": [
      "Second 9jioc@indigobook.com\n"
     ]
    }
   ],
   "source": [
    "eset_registration = 'https://login.eset.com/Register'\n",
    "temp_mail = 'https://internxt.com/ru/temporary-email'\n",
    "browser_eset.get(eset_registration)\n",
    "browser_email.get(temp_mail)\n",
    "while True:\n",
    "    mail = wait(browser_email, 10).until(EC.visibility_of_element_located((By.XPATH, '//*[@id=\"__next\"]/div[4]/section[1]/div/div[2]/div/div/button'))).text\n",
    "    if mail != 'Генерируем адрес электронной почты...':\n",
    "        break\n",
    "print(mail)\n",
    "    "
   ]
  },
  {
   "cell_type": "code",
   "execution_count": 4,
   "id": "b2f7b186-8966-48f7-90ba-d7f5e2e9251a",
   "metadata": {},
   "outputs": [],
   "source": [
    "# dialog = wait(browser_eset, 10).until(EC.visibility_of_element_located((By.XPATH, '//*[@id=\"cookiebar\"]/div[1]')))\n",
    "# temp_mail = browser_email.find_element(By.XPATH, '//*[@id=\"__next\"]/div[4]/section[1]/div/div[2]/div/div/button/p').text"
   ]
  },
  {
   "cell_type": "code",
   "execution_count": 5,
   "id": "c9e930a9-4c07-4668-9c0d-0279fd539ae6",
   "metadata": {
    "scrolled": true
   },
   "outputs": [],
   "source": [
    "# dialog = wait(browser_eset, 10).until(EC.visibility_of_element_located((By.XPATH, '//*[@id=\"cookiebar\"]/div[1]')))\n",
    "# button_eset_cockies = browser_eset.find_element(By.XPATH, '/html/body/div[2]/div[1]/div/div[2]/div[2]/button')\n",
    "# button_eset_cockies.click()"
   ]
  },
  {
   "cell_type": "code",
   "execution_count": 6,
   "id": "a904580f-5c3b-4bbf-a0fd-de2b35370b3a",
   "metadata": {},
   "outputs": [],
   "source": [
    "# email_input = browser_eset.find_element(By.XPATH, '//*[@id=\"email\"]')\n",
    "# email_input.send_keys(temp_mail)\n",
    "# email_input.send_keys(Keys.ENTER)"
   ]
  },
  {
   "cell_type": "code",
   "execution_count": 7,
   "id": "19677289-9752-47b6-b568-ce8e4d3f0678",
   "metadata": {},
   "outputs": [],
   "source": [
    "# dialog = wait(browser_eset, 10).until(EC.visibility_of_element_located((By.XPATH, '//*[@id=\"password\"]')))\n",
    "# password_input = browser_eset.find_element(By.XPATH, '//*[@id=\"password\"]')\n",
    "# chars = 'abcdefghijklmnopqrstuvwxyzABCDEFGHIJKLMNOPQRSTUVWXYZ1234567890!@#$%^&*()'\n",
    "# before = ''.join(choice(chars) for _ in range(100))\n",
    "# after = sha256(before.encode()).hexdigest()+'A'\n",
    "# password_input.send_keys(after)\n",
    "\n",
    "# print(temp_mail)\n",
    "# print(after)\n"
   ]
  },
  {
   "cell_type": "code",
   "execution_count": 8,
   "id": "27634c4d-b1d7-4409-9e9e-0555252b15ea",
   "metadata": {},
   "outputs": [],
   "source": [
    "# password_input.send_keys(Keys.ENTER)"
   ]
  }
 ],
 "metadata": {
  "kernelspec": {
   "display_name": "Python (myenv)",
   "language": "python",
   "name": "myenv"
  },
  "language_info": {
   "codemirror_mode": {
    "name": "ipython",
    "version": 3
   },
   "file_extension": ".py",
   "mimetype": "text/x-python",
   "name": "python",
   "nbconvert_exporter": "python",
   "pygments_lexer": "ipython3",
   "version": "3.12.9"
  }
 },
 "nbformat": 4,
 "nbformat_minor": 5
}
