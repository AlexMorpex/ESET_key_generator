{
 "cells": [
  {
   "cell_type": "code",
   "execution_count": 1,
   "id": "860330f0-e25d-439e-8b4c-2e28fda22486",
   "metadata": {},
   "outputs": [],
   "source": [
    "from selenium import webdriver\n",
    "from selenium.webdriver.common.by import By\n",
    "from selenium.webdriver.chrome.service import Service\n",
    "from selenium.webdriver.common.keys import Keys\n",
    "from selenium.webdriver.support.ui import WebDriverWait as wait\n",
    "from selenium.webdriver.support import expected_conditions as EC\n",
    "from selenium.common.exceptions import NoSuchElementException\n",
    "from bs4 import BeautifulSoup\n",
    "from time import sleep\n",
    "from tqdm import tqdm\n",
    "from hashlib import sha256\n",
    "from random import choice\n",
    "import requests\n",
    "import time\n",
    "import re"
   ]
  },
  {
   "cell_type": "code",
   "execution_count": 2,
   "id": "3682c008-ec95-43ee-9a3a-b3ff0aea9938",
   "metadata": {},
   "outputs": [],
   "source": [
    "service = Service('chromedriver.exe')\n",
    "eset_registration = 'https://login.eset.com/Register'\n",
    "\n",
    "browser_eset = webdriver.Chrome(service=service)\n",
    "browser_eset.get(eset_registration)\n",
    "\n",
    "wait(browser_eset, 10).until(EC.visibility_of_element_located((By.XPATH, '//*[@id=\"cookiebar\"]/div[1]')))\n",
    "button_eset_cockies = browser_eset.find_element(By.XPATH, '/html/body/div[2]/div[1]/div/div[2]/div[2]/button')\n",
    "button_eset_cockies.click()\n"
   ]
  },
  {
   "cell_type": "code",
   "execution_count": 3,
   "id": "2d64df77-c097-4690-b019-39f173c50c61",
   "metadata": {},
   "outputs": [],
   "source": [
    "\n",
    "def get_domains():\n",
    "    response = requests.get(\"https://api.mail.tm/domains\")\n",
    "    return response.json()[\"hydra:member\"][0][\"domain\"]\n",
    "\n",
    "def create_account(email, password):\n",
    "    response = requests.post(\"https://api.mail.tm/accounts\", json={\"address\": email, \"password\": password})\n",
    "    return response.json()\n",
    "\n",
    "def get_token(email, password):\n",
    "    response = requests.post(\"https://api.mail.tm/token\", json={\"address\": email, \"password\": password})\n",
    "    return response.json().get(\"token\")\n",
    "\n",
    "def get_messages(token):\n",
    "    headers = {\"Authorization\": f\"Bearer {token}\"}\n",
    "    response = requests.get(\"https://api.mail.tm/messages\", headers=headers)\n",
    "    return response.json()[\"hydra:member\"]\n",
    "\n",
    "def get_message_content(token, message_id):\n",
    "    headers = {\"Authorization\": f\"Bearer {token}\"}\n",
    "    response = requests.get(f\"https://api.mail.tm/messages/{message_id}\", headers=headers)\n",
    "    return response.json().get(\"text\", \"\")\n",
    "\n",
    "def extract_confirmation_link(text):\n",
    "    match = re.search(r'https?://\\S+', text)\n",
    "    return match.group(0) if match else \"Ссылка не найдена\""
   ]
  },
  {
   "cell_type": "code",
   "execution_count": 4,
   "id": "eb953137-5f33-4d45-90f4-19a7b94a1e2d",
   "metadata": {},
   "outputs": [
    {
     "name": "stdout",
     "output_type": "stream",
     "text": [
      "Создание временной почты: test_1742570555@indigobook.com\n",
      "Успешно получили токен аутентификации!\n",
      "Ожидание писем...\n",
      "Полученные сообщения:\n",
      "От: info@product.eset.com, Тема: Подтверждение учетной записи\n",
      "Ссылка для подтверждения: https://login.eset.com/link/confirmregistration?token=7bb5acce-7f5b-4380-81f4-51379233098b\n"
     ]
    }
   ],
   "source": [
    "chars = 'abcdefghijklmnopqrstuvwxyzABCDEFGHIJKLMNOPQRSTUVWXYZ1234567890!@#$%^&*()'\n",
    "before = ''.join(choice(chars) for _ in range(100))\n",
    "\n",
    "domain = get_domains()\n",
    "email = f\"test_{int(time.time())}@{domain}\"\n",
    "password = sha256(before.encode()).hexdigest()+'A'\n",
    "\n",
    "\n",
    "print(f\"Создание временной почты: {email}\")\n",
    "create_account(email, password)\n",
    "token = get_token(email, password)\n",
    "\n",
    "if token:\n",
    "    print(\"Успешно получили токен аутентификации!\")\n",
    "    print(\"Ожидание писем...\")\n",
    "\n",
    "\n",
    "    email_input = browser_eset.find_element(By.XPATH, '//*[@id=\"email\"]')\n",
    "    email_input.send_keys(email)\n",
    "    email_input.send_keys(Keys.ENTER)\n",
    "    \n",
    "    wait(browser_eset, 10).until(EC.visibility_of_element_located((By.XPATH, '//*[@id=\"password\"]')))\n",
    "    password_input = browser_eset.find_element(By.XPATH, '//*[@id=\"password\"]')\n",
    "    password_input.send_keys(password)\n",
    "    password_input.send_keys(Keys.ENTER)\n",
    "    \n",
    "    time.sleep(10)  # Подождем немного, чтобы появилось письмо\n",
    "    \n",
    "    messages = get_messages(token)\n",
    "    \n",
    "    if messages:\n",
    "        print(\"Полученные сообщения:\")\n",
    "        for msg in messages:\n",
    "            for msg in messages:\n",
    "                print(f\"От: {msg['from']['address']}, Тема: {msg['subject']}\")\n",
    "                message_text = get_message_content(token, msg['id'])\n",
    "                confirmation_link = extract_confirmation_link(message_text).replace(']','')\n",
    "                print(f\"Ссылка для подтверждения: {confirmation_link}\")\n",
    "                browser_eset.get(confirmation_link)\n",
    "    else:\n",
    "        print(\"Сообщений пока нет.\")\n",
    "else:\n",
    "    print(\"Ошибка получения токена.\")\n"
   ]
  },
  {
   "cell_type": "code",
   "execution_count": 5,
   "id": "c3cbe136-719a-4798-a43b-9aef9f52bd8f",
   "metadata": {},
   "outputs": [
    {
     "ename": "NoSuchElementException",
     "evalue": "Message: no such element: Unable to locate element: {\"method\":\"xpath\",\"selector\":\"//*[@id=\"main-content\"]/div/div[1]/div/main/div/div/div[2]/div/div/div/div/div[2]/div/div/div/button\"}\n  (Session info: chrome=134.0.6998.89); For documentation on this error, please visit: https://www.selenium.dev/documentation/webdriver/troubleshooting/errors#no-such-element-exception\nStacktrace:\n\tGetHandleVerifier [0x00007FF78BFDFE45+26629]\n\t(No symbol) [0x00007FF78BF46010]\n\t(No symbol) [0x00007FF78BDD931A]\n\t(No symbol) [0x00007FF78BE2F8E7]\n\t(No symbol) [0x00007FF78BE2FB1C]\n\t(No symbol) [0x00007FF78BE834A7]\n\t(No symbol) [0x00007FF78BE57AEF]\n\t(No symbol) [0x00007FF78BE80169]\n\t(No symbol) [0x00007FF78BE57883]\n\t(No symbol) [0x00007FF78BE20550]\n\t(No symbol) [0x00007FF78BE21803]\n\tGetHandleVerifier [0x00007FF78C3372BD+3529853]\n\tGetHandleVerifier [0x00007FF78C34DA22+3621858]\n\tGetHandleVerifier [0x00007FF78C3424D3+3575443]\n\tGetHandleVerifier [0x00007FF78C0AB77A+860474]\n\t(No symbol) [0x00007FF78BF5088F]\n\t(No symbol) [0x00007FF78BF4CBC4]\n\t(No symbol) [0x00007FF78BF4CD66]\n\t(No symbol) [0x00007FF78BF3C2C9]\n\tBaseThreadInitThunk [0x00007FFD9775E8D7+23]\n\tRtlUserThreadStart [0x00007FFD995BBF6C+44]\n",
     "output_type": "error",
     "traceback": [
      "\u001b[31m---------------------------------------------------------------------------\u001b[39m",
      "\u001b[31mNoSuchElementException\u001b[39m                    Traceback (most recent call last)",
      "\u001b[36mCell\u001b[39m\u001b[36m \u001b[39m\u001b[32mIn[5]\u001b[39m\u001b[32m, line 2\u001b[39m\n\u001b[32m      1\u001b[39m \u001b[38;5;66;03m# wait(browser_eset, 10).until(EC.visibility_of_element_located((By.XPATH, '//*[@id=\"main-content\"]/div/div[1]/div/main/div/div/div[2]/div/div/div/div/div[2]/div/div/div/button')))\u001b[39;00m\n\u001b[32m----> \u001b[39m\u001b[32m2\u001b[39m \u001b[43mbrowser_eset\u001b[49m\u001b[43m.\u001b[49m\u001b[43mfind_element\u001b[49m\u001b[43m(\u001b[49m\u001b[43mBy\u001b[49m\u001b[43m.\u001b[49m\u001b[43mXPATH\u001b[49m\u001b[43m,\u001b[49m\u001b[43m \u001b[49m\u001b[33;43m'\u001b[39;49m\u001b[33;43m//*[@id=\u001b[39;49m\u001b[33;43m\"\u001b[39;49m\u001b[33;43mmain-content\u001b[39;49m\u001b[33;43m\"\u001b[39;49m\u001b[33;43m]/div/div[1]/div/main/div/div/div[2]/div/div/div/div/div[2]/div/div/div/button\u001b[39;49m\u001b[33;43m'\u001b[39;49m\u001b[43m)\u001b[49m.click()\n\u001b[32m      4\u001b[39m \u001b[38;5;66;03m# wait(browser_eset, 10).until(EC.visibility_of_element_located((By.XPATH, '//*[@id=\"license-add-new-slides\"]/div/ion-slide[1]/div/div/div[3]/div/button')))\u001b[39;00m\n\u001b[32m      5\u001b[39m browser_eset.find_element(By.XPATH, \u001b[33m'\u001b[39m\u001b[33m//*[@id=\u001b[39m\u001b[33m\"\u001b[39m\u001b[33mlicense-add-new-slides\u001b[39m\u001b[33m\"\u001b[39m\u001b[33m]/div/ion-slide[1]/div/div/div[3]/div/button\u001b[39m\u001b[33m'\u001b[39m).click()\n",
      "\u001b[36mFile \u001b[39m\u001b[32m~\\AppData\\Local\\Programs\\Python\\Python312\\Lib\\site-packages\\selenium\\webdriver\\remote\\webdriver.py:898\u001b[39m, in \u001b[36mWebDriver.find_element\u001b[39m\u001b[34m(self, by, value)\u001b[39m\n\u001b[32m    895\u001b[39m         \u001b[38;5;28;01mraise\u001b[39;00m NoSuchElementException(\u001b[33mf\u001b[39m\u001b[33m\"\u001b[39m\u001b[33mCannot locate relative element with: \u001b[39m\u001b[38;5;132;01m{\u001b[39;00mby.root\u001b[38;5;132;01m}\u001b[39;00m\u001b[33m\"\u001b[39m)\n\u001b[32m    896\u001b[39m     \u001b[38;5;28;01mreturn\u001b[39;00m elements[\u001b[32m0\u001b[39m]\n\u001b[32m--> \u001b[39m\u001b[32m898\u001b[39m \u001b[38;5;28;01mreturn\u001b[39;00m \u001b[38;5;28;43mself\u001b[39;49m\u001b[43m.\u001b[49m\u001b[43mexecute\u001b[49m\u001b[43m(\u001b[49m\u001b[43mCommand\u001b[49m\u001b[43m.\u001b[49m\u001b[43mFIND_ELEMENT\u001b[49m\u001b[43m,\u001b[49m\u001b[43m \u001b[49m\u001b[43m{\u001b[49m\u001b[33;43m\"\u001b[39;49m\u001b[33;43musing\u001b[39;49m\u001b[33;43m\"\u001b[39;49m\u001b[43m:\u001b[49m\u001b[43m \u001b[49m\u001b[43mby\u001b[49m\u001b[43m,\u001b[49m\u001b[43m \u001b[49m\u001b[33;43m\"\u001b[39;49m\u001b[33;43mvalue\u001b[39;49m\u001b[33;43m\"\u001b[39;49m\u001b[43m:\u001b[49m\u001b[43m \u001b[49m\u001b[43mvalue\u001b[49m\u001b[43m}\u001b[49m\u001b[43m)\u001b[49m[\u001b[33m\"\u001b[39m\u001b[33mvalue\u001b[39m\u001b[33m\"\u001b[39m]\n",
      "\u001b[36mFile \u001b[39m\u001b[32m~\\AppData\\Local\\Programs\\Python\\Python312\\Lib\\site-packages\\selenium\\webdriver\\remote\\webdriver.py:429\u001b[39m, in \u001b[36mWebDriver.execute\u001b[39m\u001b[34m(self, driver_command, params)\u001b[39m\n\u001b[32m    427\u001b[39m response = \u001b[38;5;28mself\u001b[39m.command_executor.execute(driver_command, params)\n\u001b[32m    428\u001b[39m \u001b[38;5;28;01mif\u001b[39;00m response:\n\u001b[32m--> \u001b[39m\u001b[32m429\u001b[39m     \u001b[38;5;28;43mself\u001b[39;49m\u001b[43m.\u001b[49m\u001b[43merror_handler\u001b[49m\u001b[43m.\u001b[49m\u001b[43mcheck_response\u001b[49m\u001b[43m(\u001b[49m\u001b[43mresponse\u001b[49m\u001b[43m)\u001b[49m\n\u001b[32m    430\u001b[39m     response[\u001b[33m\"\u001b[39m\u001b[33mvalue\u001b[39m\u001b[33m\"\u001b[39m] = \u001b[38;5;28mself\u001b[39m._unwrap_value(response.get(\u001b[33m\"\u001b[39m\u001b[33mvalue\u001b[39m\u001b[33m\"\u001b[39m, \u001b[38;5;28;01mNone\u001b[39;00m))\n\u001b[32m    431\u001b[39m     \u001b[38;5;28;01mreturn\u001b[39;00m response\n",
      "\u001b[36mFile \u001b[39m\u001b[32m~\\AppData\\Local\\Programs\\Python\\Python312\\Lib\\site-packages\\selenium\\webdriver\\remote\\errorhandler.py:232\u001b[39m, in \u001b[36mErrorHandler.check_response\u001b[39m\u001b[34m(self, response)\u001b[39m\n\u001b[32m    230\u001b[39m         alert_text = value[\u001b[33m\"\u001b[39m\u001b[33malert\u001b[39m\u001b[33m\"\u001b[39m].get(\u001b[33m\"\u001b[39m\u001b[33mtext\u001b[39m\u001b[33m\"\u001b[39m)\n\u001b[32m    231\u001b[39m     \u001b[38;5;28;01mraise\u001b[39;00m exception_class(message, screen, stacktrace, alert_text)  \u001b[38;5;66;03m# type: ignore[call-arg]  # mypy is not smart enough here\u001b[39;00m\n\u001b[32m--> \u001b[39m\u001b[32m232\u001b[39m \u001b[38;5;28;01mraise\u001b[39;00m exception_class(message, screen, stacktrace)\n",
      "\u001b[31mNoSuchElementException\u001b[39m: Message: no such element: Unable to locate element: {\"method\":\"xpath\",\"selector\":\"//*[@id=\"main-content\"]/div/div[1]/div/main/div/div/div[2]/div/div/div/div/div[2]/div/div/div/button\"}\n  (Session info: chrome=134.0.6998.89); For documentation on this error, please visit: https://www.selenium.dev/documentation/webdriver/troubleshooting/errors#no-such-element-exception\nStacktrace:\n\tGetHandleVerifier [0x00007FF78BFDFE45+26629]\n\t(No symbol) [0x00007FF78BF46010]\n\t(No symbol) [0x00007FF78BDD931A]\n\t(No symbol) [0x00007FF78BE2F8E7]\n\t(No symbol) [0x00007FF78BE2FB1C]\n\t(No symbol) [0x00007FF78BE834A7]\n\t(No symbol) [0x00007FF78BE57AEF]\n\t(No symbol) [0x00007FF78BE80169]\n\t(No symbol) [0x00007FF78BE57883]\n\t(No symbol) [0x00007FF78BE20550]\n\t(No symbol) [0x00007FF78BE21803]\n\tGetHandleVerifier [0x00007FF78C3372BD+3529853]\n\tGetHandleVerifier [0x00007FF78C34DA22+3621858]\n\tGetHandleVerifier [0x00007FF78C3424D3+3575443]\n\tGetHandleVerifier [0x00007FF78C0AB77A+860474]\n\t(No symbol) [0x00007FF78BF5088F]\n\t(No symbol) [0x00007FF78BF4CBC4]\n\t(No symbol) [0x00007FF78BF4CD66]\n\t(No symbol) [0x00007FF78BF3C2C9]\n\tBaseThreadInitThunk [0x00007FFD9775E8D7+23]\n\tRtlUserThreadStart [0x00007FFD995BBF6C+44]\n"
     ]
    }
   ],
   "source": [
    "wait(browser_eset, 10).until(EC.visibility_of_element_located((By.XPATH, '//*[@id=\"main-content\"]/div/div[1]/div/main/div/div/div[2]/div/div/div/div/div[2]/div/div/div/button')))\n",
    "browser_eset.find_element(By.XPATH, '//*[@id=\"main-content\"]/div/div[1]/div/main/div/div/div[2]/div/div/div/div/div[2]/div/div/div/button').click()\n",
    "\n",
    "wait(browser_eset, 10).until(EC.visibility_of_element_located((By.XPATH, '//*[@id=\"license-add-new-slides\"]/div/ion-slide[1]/div/div/div[3]/div/button')))\n",
    "browser_eset.find_element(By.XPATH, '//*[@id=\"license-add-new-slides\"]/div/ion-slide[1]/div/div/div[3]/div/button').click()\n",
    "\n",
    "browser_eset.find_element(By.XPATH, '//*[@id=\"license-add-new-slides\"]/div/ion-slide[1]/div/button').click()\n",
    "\n",
    "wait(browser_eset, 10).until(EC.visibility_of_element_located((By.XPATH, '//*[@id=\"main-content\"]/div/div/div/main/div/div/div[2]/div/div/div/div/div/div/div/div[1]/div/div/div/button')))\n",
    "browser_eset.find_element(By.XPATH, '//*[@id=\"main-content\"]/div/div/div/main/div/div/div[2]/div/div/div/div/div/div/div/div[1]/div/div/div/button').click()\n",
    "browser_eset.find_element(By.XPATH, '//*[@id=\"main-content\"]/div/div/div/main/div/div/div[2]/div/div/div/div/button[1]').click()\n",
    "\n",
    "wait(browser_eset, 10).until(EC.visibility_of_element_located((By.XPATH, '//*[@id=\"main-content\"]/div/div[1]/div/main/div/div/div[2]/div/div/div[2]/div/div/div/div/div[2]/div/div/div/button')))\n",
    "browser_eset.find_element(By.XPATH, '//*[@id=\"main-content\"]/div/div[1]/div/main/div/div/div[2]/div/div/div[2]/div/div/div/div/div[2]/div/div/div/button').click()\n",
    "browser_eset.find_element(By.XPATH, '//*[@id=\"main-content\"]/div/div[1]/div/main/div/div/div[2]/div/div/div[2]/div/button').click()"
   ]
  },
  {
   "cell_type": "code",
   "execution_count": null,
   "id": "a6106c4d-fb67-4f86-9df5-c4e45f6b2496",
   "metadata": {},
   "outputs": [],
   "source": [
    "key = browser_eset.find_element(By.XPATH, '//*[@id=\"main-content\"]/div/div/div/main/div/div/div[2]/div/div/div[3]/div[1]/div/div/div/div[1]/div[2]/div[6]/div/div').find_element(By.TAG_NAME,'p').text\n",
    "key\n"
   ]
  },
  {
   "cell_type": "code",
   "execution_count": null,
   "id": "a7ab02b0-372d-482b-859b-3d27976604be",
   "metadata": {},
   "outputs": [],
   "source": []
  }
 ],
 "metadata": {
  "kernelspec": {
   "display_name": "Python (myenv)",
   "language": "python",
   "name": "myenv"
  },
  "language_info": {
   "codemirror_mode": {
    "name": "ipython",
    "version": 3
   },
   "file_extension": ".py",
   "mimetype": "text/x-python",
   "name": "python",
   "nbconvert_exporter": "python",
   "pygments_lexer": "ipython3",
   "version": "3.12.9"
  }
 },
 "nbformat": 4,
 "nbformat_minor": 5
}
