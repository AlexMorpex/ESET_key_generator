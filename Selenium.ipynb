{
 "cells": [
  {
   "cell_type": "code",
   "execution_count": 1,
   "id": "d5e443ca-2244-4cb1-880c-43e860bdc561",
   "metadata": {},
   "outputs": [],
   "source": [
    "from selenium import webdriver\n",
    "from selenium.webdriver.common.by import By\n",
    "from selenium.webdriver.chrome.service import Service\n",
    "from selenium.webdriver.common.keys import Keys\n",
    "from selenium.webdriver.support.ui import WebDriverWait as wait\n",
    "from selenium.webdriver.support import expected_conditions as EC\n",
    "from selenium.common.exceptions import NoSuchElementException\n",
    "from bs4 import BeautifulSoup\n",
    "from time import sleep\n",
    "from tqdm import tqdm\n"
   ]
  },
  {
   "cell_type": "code",
   "execution_count": 2,
   "id": "c165703e-30cb-4a6a-a4c1-c6d1825b5f13",
   "metadata": {},
   "outputs": [],
   "source": [
    "service = Service('chromedriver.exe')\n",
    "browser = webdriver.Chrome(service=service)"
   ]
  },
  {
   "cell_type": "code",
   "execution_count": 3,
   "id": "91caa28c-9af3-498c-a12d-f45a234f00d4",
   "metadata": {},
   "outputs": [],
   "source": [
    "url = 'https://kinogo.ec/'\n",
    "browser.get(url)"
   ]
  },
  {
   "cell_type": "code",
   "execution_count": 4,
   "id": "959e3b66-32ef-4358-9e94-7fd2fcc18f7a",
   "metadata": {},
   "outputs": [],
   "source": [
    "input_tab = browser.find_element(By.XPATH,'/html/body/div/div[4]/div/div/div[2]/div[2]/form/input')"
   ]
  },
  {
   "cell_type": "code",
   "execution_count": 6,
   "id": "70be29f7-9c4e-443e-ab40-730cb2e9a0c0",
   "metadata": {},
   "outputs": [],
   "source": [
    "input_tab.send_keys('Форсаж 10')"
   ]
  },
  {
   "cell_type": "code",
   "execution_count": 7,
   "id": "ad96e8bd-d04d-48b1-b282-126b12466d59",
   "metadata": {},
   "outputs": [],
   "source": [
    "button_search = browser.find_element(By.XPATH, '/html/body/div/div[4]/div/div/div[2]/div[2]/form/button[2]')"
   ]
  },
  {
   "cell_type": "code",
   "execution_count": 8,
   "id": "31e75d14-8daf-4111-81d1-7f101e644aa1",
   "metadata": {},
   "outputs": [],
   "source": [
    "button_search.click()"
   ]
  }
 ],
 "metadata": {
  "kernelspec": {
   "display_name": "Python (myenv)",
   "language": "python",
   "name": "myenv"
  },
  "language_info": {
   "codemirror_mode": {
    "name": "ipython",
    "version": 3
   },
   "file_extension": ".py",
   "mimetype": "text/x-python",
   "name": "python",
   "nbconvert_exporter": "python",
   "pygments_lexer": "ipython3",
   "version": "3.12.9"
  }
 },
 "nbformat": 4,
 "nbformat_minor": 5
}
